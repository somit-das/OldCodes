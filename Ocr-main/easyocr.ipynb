{
 "cells": [
  {
   "cell_type": "code",
   "execution_count": 1,
   "id": "7d254dc8",
   "metadata": {},
   "outputs": [],
   "source": [
    "# !pip install easyocr"
   ]
  },
  {
   "cell_type": "code",
   "execution_count": 4,
   "id": "d9f7dcd4",
   "metadata": {},
   "outputs": [],
   "source": [
    "import matplotlib.pyplot as plt\n",
    "import cv2\n",
    "import os\n",
    "os.environ['KMP_DUPLICATE_LIB_OK']='True'\n",
    "import easyocr\n",
    "from pylab import rcParams\n",
    "from IPython.display import Image\n",
    "rcParams['figure.figsize'] = 8, 16"
   ]
  },
  {
   "cell_type": "code",
   "execution_count": 6,
   "id": "7d9c39ce",
   "metadata": {},
   "outputs": [
    {
     "name": "stderr",
     "output_type": "stream",
     "text": [
      "CUDA not available - defaulting to CPU. Note: This module is much faster with a GPU.\n"
     ]
    }
   ],
   "source": [
    "reader = easyocr.Reader(['en'])  #selected language as english, you can do it for other languages too."
   ]
  },
  {
   "cell_type": "code",
   "execution_count": 21,
   "id": "d1053b46",
   "metadata": {},
   "outputs": [
    {
     "data": {
      "image/png": "[encoded data removed]",
      "text/plain": [
       "<IPython.core.display.Image object>"
      ]
     },
     "execution_count": 21,
     "metadata": {},
     "output_type": "execute_result"
    }
   ],
   "source": [
    "Image(\"3.png\")"
   ]
  },
  {
   "cell_type": "code",
   "execution_count": 22,
   "id": "ddae6350",
   "metadata": {},
   "outputs": [],
   "source": [
    "output = reader.readtext('3.png')"
   ]
  },
  {
   "cell_type": "code",
   "execution_count": 23,
   "id": "68430637",
   "metadata": {},
   "outputs": [
    {
     "data": {
      "text/plain": [
       "[([[18, 20], [710, 20], [710, 77], [18, 77]],\n",
       "  'How To Extract Text From Image',\n",
       "  0.9790467602030571),\n",
       " ([[13, 71], [253, 71], [253, 135], [13, 135]],\n",
       "  'Using OCR',\n",
       "  0.9271470632135227),\n",
       " ([[286, 75], [491, 75], [491, 123], [286, 123]],\n",
       "  'In UiPath',\n",
       "  0.999654333231288)]"
      ]
     },
     "execution_count": 23,
     "metadata": {},
     "output_type": "execute_result"
    }
   ],
   "source": [
    "output"
   ]
  },
  {
   "cell_type": "code",
   "execution_count": 19,
   "id": "ada76204",
   "metadata": {},
   "outputs": [
    {
     "data": {
      "text/plain": [
       "2"
      ]
     },
     "execution_count": 19,
     "metadata": {},
     "output_type": "execute_result"
    }
   ],
   "source": [
    "len(output)"
   ]
  },
  {
   "cell_type": "code",
   "execution_count": 20,
   "id": "c405b2c4",
   "metadata": {},
   "outputs": [
    {
     "name": "stdout",
     "output_type": "stream",
     "text": [
      "sample text\n",
      "Im\n"
     ]
    }
   ],
   "source": [
    "for x in range(len(output)):\n",
    "    print(output[x][1])"
   ]
  },
  {
   "cell_type": "code",
   "execution_count": null,
   "id": "caaa9998",
   "metadata": {},
   "outputs": [],
   "source": []
  },
  {
   "cell_type": "code",
   "execution_count": null,
   "id": "84527e21",
   "metadata": {},
   "outputs": [],
   "source": []
  },
  {
   "cell_type": "code",
   "execution_count": null,
   "id": "859a7013",
   "metadata": {},
   "outputs": [
    {
     "name": "stderr",
     "output_type": "stream",
     "text": [
      "CUDA not available - defaulting to CPU. Note: This module is much faster with a GPU.\n"
     ]
    },
    {
     "name": "stdout",
     "output_type": "stream",
     "text": [
      "Now you can use OCRon the LINE app tool\n"
     ]
    }
   ],
   "source": [
    "# Python program to create\n",
    "# a file explorer in Tkinter\n",
    "\n",
    "# import all components\n",
    "# from the tkinter library\n",
    "import os\n",
    "os.environ['KMP_DUPLICATE_LIB_OK']='True'\n",
    "from tkinter import *\n",
    "import matplotlib.pyplot as plt\n",
    "import cv2\n",
    "import easyocr\n",
    "from pylab import rcParams\n",
    "from IPython.display import Image\n",
    "rcParams['figure.figsize'] = 8, 16\n",
    "\n",
    "# import filedialog module\n",
    "from tkinter import filedialog\n",
    "\n",
    "reader = easyocr.Reader(['en'])\n",
    "\n",
    "# Function for opening the\n",
    "# file explorer window\n",
    "\n",
    "filename = \"\"\n",
    "def browseFiles():\n",
    "\tglobal filename    \n",
    "\tfilename = filedialog.askopenfilename(initialdir = \"/\",\n",
    "\t\t\t\t\t\t\t\t\t\ttitle = \"Select a File\",\n",
    "\t\t\t\t\t\t\t\t\t\tfiletypes = ((\"Text files\",\n",
    "\t\t\t\t\t\t\t\t\t\t\t\t\t\t\"*.txt*\"),\n",
    "\t\t\t\t\t\t\t\t\t\t\t\t\t(\"all files\",\n",
    "\t\t\t\t\t\t\t\t\t\t\t\t\t\t\"*.*\")))\n",
    "\t\n",
    "\t# Change label contents\n",
    "\tlabel_file_explorer.configure(text=\"File Opened: \"+filename)\n",
    "\t\n",
    "\t\n",
    "    \n",
    "    \n",
    "def text():\n",
    "    a = \"\"\n",
    "    output = reader.readtext(filename)\n",
    "    for x in range(len(output)):\n",
    "        a+=output[x][1]\n",
    "    print(a)\n",
    "        \n",
    "    label2 = Label(window,\n",
    "\t\t\t\t\t\t\ttext = a,\n",
    "\t\t\t\t\t\t\twidth = 100, height = 4,\n",
    "\t\t\t\t\t\t\tfg = \"blue\")\n",
    "    \n",
    "    label2.grid(column = 1, row = 3)\n",
    "\n",
    "    \n",
    "\t\t\t\t\t\t\t\t\t\t\t\t\t\t\t\t\t\t\t\t\t\t\t\t\n",
    "# Create the root window\n",
    "window = Tk()\n",
    "\n",
    "# Set window title\n",
    "window.title('File Explorer')\n",
    "\n",
    "# Set window size\n",
    "window.geometry(\"500x500\")\n",
    "\n",
    "#Set window background color\n",
    "window.config(background = \"white\")\n",
    "\n",
    "# Create a File Explorer label\n",
    "label_file_explorer = Label(window,\n",
    "\t\t\t\t\t\t\ttext = \"File Explorer using Tkinter\",\n",
    "\t\t\t\t\t\t\twidth = 100, height = 4,\n",
    "\t\t\t\t\t\t\tfg = \"blue\")\n",
    "\n",
    "\t\n",
    "button_explore = Button(window,\n",
    "\t\t\t\t\t\ttext = \"Browse Files\",\n",
    "\t\t\t\t\t\tcommand = browseFiles)\n",
    "\n",
    "\n",
    "button_text = Button(window,\n",
    "\t\t\t\t\t\ttext = \"Read text\",\n",
    "\t\t\t\t\t\tcommand = text)\n",
    "\n",
    "\n",
    "\n",
    "button_exit = Button(window,\n",
    "\t\t\t\t\ttext = \"Exit\",\n",
    "\t\t\t\t\tcommand = window.destroy)\n",
    "\n",
    "# Grid method is chosen for placing\n",
    "# the widgets at respective positions\n",
    "# in a table like structure by\n",
    "# specifying rows and columns\n",
    "label_file_explorer.grid(column = 1, row = 1)\n",
    "\n",
    "button_explore.grid(column = 1, row = 2)\n",
    "\n",
    "button_text.grid(column = 1, row = 3)\n",
    "\n",
    "button_exit.grid(column = 1,row = 4)\n",
    "\n",
    "# Let the window wait for any events\n",
    "window.mainloop()\n"
   ]
  },
  {
   "cell_type": "code",
   "execution_count": null,
   "id": "ee3bd154",
   "metadata": {},
   "outputs": [],
   "source": []
  },
  {
   "cell_type": "code",
   "execution_count": null,
   "id": "2ddabe6a",
   "metadata": {},
   "outputs": [],
   "source": []
  },
  {
   "cell_type": "code",
   "execution_count": null,
   "id": "72de85da",
   "metadata": {},
   "outputs": [],
   "source": []
  },
  {
   "cell_type": "code",
   "execution_count": null,
   "id": "b7d6c36b",
   "metadata": {},
   "outputs": [],
   "source": []
  }
 ],
 "metadata": {
  "kernelspec": {
   "display_name": "Python 3 (ipykernel)",
   "language": "python",
   "name": "python3"
  },
  "language_info": {
   "codemirror_mode": {
    "name": "ipython",
    "version": 3
   },
   "file_extension": ".py",
   "mimetype": "text/x-python",
   "name": "python",
   "nbconvert_exporter": "python",
   "pygments_lexer": "ipython3",
   "version": "3.9.7"
  }
 },
 "nbformat": 4,
 "nbformat_minor": 5
}
