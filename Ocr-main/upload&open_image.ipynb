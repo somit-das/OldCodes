{
 "cells": [
  {
   "cell_type": "code",
   "execution_count": 1,
   "id": "7d254dc8",
   "metadata": {},
   "outputs": [],
   "source": [
    "# !pip uninstall easyocr"
   ]
  },
  {
   "cell_type": "code",
   "execution_count": 3,
   "id": "a475c3c4",
   "metadata": {},
   "outputs": [],
   "source": [
    "import cv2\n",
    "import matplotlib.pyplot as plt"
   ]
  },
  {
   "cell_type": "code",
   "execution_count": 4,
   "id": "8164566f",
   "metadata": {},
   "outputs": [],
   "source": [
    "import easyocr"
   ]
  },
  {
   "cell_type": "code",
   "execution_count": 5,
   "id": "d9f7dcd4",
   "metadata": {},
   "outputs": [],
   "source": [
    "\n",
    "import cv2\n",
    "from pylab import rcParams\n",
    "from IPython.display import Image\n",
    "rcParams['figure.figsize'] = 8, 16"
   ]
  },
  {
   "cell_type": "code",
   "execution_count": 6,
   "id": "7d9c39ce",
   "metadata": {},
   "outputs": [
    {
     "name": "stderr",
     "output_type": "stream",
     "text": [
      "CUDA not available - defaulting to CPU. Note: This module is much faster with a GPU.\n"
     ]
    }
   ],
   "source": [
    "reader = easyocr.Reader(['en'])"
   ]
  },
  {
   "cell_type": "code",
   "execution_count": 7,
   "id": "d1053b46",
   "metadata": {},
   "outputs": [
    {
     "data": {
      "image/png": "[encoded data removed]",
      "text/plain": [
       "<IPython.core.display.Image object>"
      ]
     },
     "execution_count": 7,
     "metadata": {},
     "output_type": "execute_result"
    }
   ],
   "source": [
    "Image(\"1.png\")"
   ]
  },
  {
   "cell_type": "code",
   "execution_count": 8,
   "id": "ddae6350",
   "metadata": {},
   "outputs": [],
   "source": [
    "output = reader.readtext('1.png')"
   ]
  },
  {
   "cell_type": "code",
   "execution_count": 9,
   "id": "68430637",
   "metadata": {},
   "outputs": [
    {
     "data": {
      "text/plain": [
       "[([[43, 43], [323, 43], [323, 79], [43, 79]],\n",
       "  'Now you can use OCR',\n",
       "  0.9119060821699969),\n",
       " ([[56, 78], [310, 78], [310, 110], [56, 110]],\n",
       "  'on the LINE app tool',\n",
       "  0.957880383682837)]"
      ]
     },
     "execution_count": 9,
     "metadata": {},
     "output_type": "execute_result"
    }
   ],
   "source": [
    "output"
   ]
  },
  {
   "cell_type": "code",
   "execution_count": 10,
   "id": "ada76204",
   "metadata": {},
   "outputs": [
    {
     "data": {
      "text/plain": [
       "2"
      ]
     },
     "execution_count": 10,
     "metadata": {},
     "output_type": "execute_result"
    }
   ],
   "source": [
    "len(output)"
   ]
  },
  {
   "cell_type": "code",
   "execution_count": 11,
   "id": "c405b2c4",
   "metadata": {},
   "outputs": [
    {
     "name": "stdout",
     "output_type": "stream",
     "text": [
      "Now you can use OCR\n",
      "on the LINE app tool\n"
     ]
    }
   ],
   "source": [
    "for x in range(len(output)):\n",
    "    print(output[x][1])"
   ]
  },
  {
   "cell_type": "code",
   "execution_count": null,
   "id": "caaa9998",
   "metadata": {},
   "outputs": [],
   "source": []
  },
  {
   "cell_type": "code",
   "execution_count": null,
   "id": "84527e21",
   "metadata": {},
   "outputs": [],
   "source": [
    "# Python program to create\n",
    "# a file explorer in Tkinter\n",
    "\n",
    "# import all components\n",
    "# from the tkinter library\n",
    "import os\n",
    "os.environ['KMP_DUPLICATE_LIB_OK']='True'\n",
    "from tkinter import *\n",
    "import matplotlib.pyplot as plt\n",
    "import cv2\n",
    "import easyocr\n",
    "from pylab import rcParams\n",
    "from IPython.display import Image\n",
    "rcParams['figure.figsize'] = 8, 16\n",
    "\n",
    "# import filedialog module\n",
    "from tkinter import filedialog\n",
    "\n",
    "reader = easyocr.Reader(['en'])\n",
    "\n",
    "# Function for opening the\n",
    "# file explorer window\n",
    "\n",
    "filename = \"\"\n",
    "def browseFiles():\n",
    "\tglobal filename    \n",
    "\tfilename = filedialog.askopenfilename(initialdir = \"/\",\n",
    "\t\t\t\t\t\t\t\t\t\ttitle = \"Select a File\",\n",
    "\t\t\t\t\t\t\t\t\t\tfiletypes = ((\"Text files\",\n",
    "\t\t\t\t\t\t\t\t\t\t\t\t\t\t\"*.txt*\"),\n",
    "\t\t\t\t\t\t\t\t\t\t\t\t\t(\"all files\",\n",
    "\t\t\t\t\t\t\t\t\t\t\t\t\t\t\"*.*\")))\n",
    "\t\n",
    "\t# Change label contents\n",
    "\tlabel_file_explorer.configure(text=\"File Opened: \"+filename)\n",
    "\t\n",
    "\t\n",
    "    \n",
    "    \n",
    "def text():\n",
    "    a = \"\"\n",
    "    output = reader.readtext(filename)\n",
    "    for x in range(len(output)):\n",
    "        a+=output[x][1]\n",
    "    print(a)\n",
    "        \n",
    "    label2 = Label(window,\n",
    "\t\t\t\t\t\t\ttext = a,\n",
    "\t\t\t\t\t\t\twidth = 100, height = 4,\n",
    "\t\t\t\t\t\t\tfg = \"blue\")\n",
    "    \n",
    "    label2.grid(column = 1, row = 3)\n",
    "\n",
    "    \n",
    "\t\t\t\t\t\t\t\t\t\t\t\t\t\t\t\t\t\t\t\t\t\t\t\t\n",
    "# Create the root window\n",
    "window = Tk()\n",
    "\n",
    "# Set window title\n",
    "window.title('File Explorer')\n",
    "\n",
    "# Set window size\n",
    "window.geometry(\"500x500\")\n",
    "\n",
    "#Set window background color\n",
    "window.config(background = \"white\")\n",
    "\n",
    "# Create a File Explorer label\n",
    "label_file_explorer = Label(window,\n",
    "\t\t\t\t\t\t\ttext = \"File Explorer using Tkinter\",\n",
    "\t\t\t\t\t\t\twidth = 100, height = 4,\n",
    "\t\t\t\t\t\t\tfg = \"blue\")\n",
    "\n",
    "\t\n",
    "button_explore = Button(window,\n",
    "\t\t\t\t\t\ttext = \"Browse Files\",\n",
    "\t\t\t\t\t\tcommand = browseFiles)\n",
    "\n",
    "\n",
    "button_text = Button(window,\n",
    "\t\t\t\t\t\ttext = \"Read text\",\n",
    "\t\t\t\t\t\tcommand = text)\n",
    "\n",
    "\n",
    "\n",
    "button_exit = Button(window,\n",
    "\t\t\t\t\ttext = \"Exit\",\n",
    "\t\t\t\t\tcommand = window.destroy)\n",
    "\n",
    "# Grid method is chosen for placing\n",
    "# the widgets at respective positions\n",
    "# in a table like structure by\n",
    "# specifying rows and columns\n",
    "label_file_explorer.grid(column = 1, row = 1)\n",
    "\n",
    "button_explore.grid(column = 1, row = 2)\n",
    "\n",
    "button_text.grid(column = 1, row = 3)\n",
    "\n",
    "button_exit.grid(column = 1,row = 4)\n",
    "\n",
    "# Let the window wait for any events\n",
    "window.mainloop()\n"
   ]
  },
  {
   "cell_type": "code",
   "execution_count": null,
   "id": "ee3bd154",
   "metadata": {},
   "outputs": [],
   "source": []
  },
  {
   "cell_type": "code",
   "execution_count": null,
   "id": "2ddabe6a",
   "metadata": {},
   "outputs": [],
   "source": []
  },
  {
   "cell_type": "code",
   "execution_count": 20,
   "id": "b7d6c36b",
   "metadata": {},
   "outputs": [
    {
     "name": "stderr",
     "output_type": "stream",
     "text": [
      "CUDA not available - defaulting to CPU. Note: This module is much faster with a GPU.\n"
     ]
    },
    {
     "name": "stdout",
     "output_type": "stream",
     "text": [
      "ExplainthatStuff !1012345678901\n"
     ]
    }
   ],
   "source": [
    "import tkinter as tk\n",
    "from tkinter import filedialog\n",
    "from tkinter.filedialog import askopenfile\n",
    "from PIL import Image, ImageTk\n",
    "import easyocr\n",
    "my_w = tk.Tk()\n",
    "my_w.geometry(\"600x800\")  # Size of the window \n",
    "my_w.title('TechieYan Technologies')\n",
    "my_font1=('times', 18, 'bold')\n",
    "\n",
    "\n",
    "reader = easyocr.Reader(['en'])\n",
    "filename = \"\"\n",
    "def upload_file():\n",
    "    global img,filename\n",
    "    f_types = [('Jpg Files', '*.jpg'),('PNG Files','*.png')]  \n",
    "    filename = filedialog.askopenfilename(filetypes=f_types)\n",
    "    img = ImageTk.PhotoImage(file=filename)\n",
    "    b2 =tk.Button(my_w,image=img) # using Button \n",
    "    b2.grid(row=3,column=1)\n",
    "\n",
    "    \n",
    "def text():\n",
    "    a = \"\"\n",
    "    output = reader.readtext(filename)\n",
    "    for x in range(len(output)):\n",
    "        a+=output[x][1]\n",
    "    print(a)\n",
    "        \n",
    "    label2 = tk.Label(my_w,text = a,width = 100, height = 4,fg = \"blue\")\n",
    "    \n",
    "    label2.grid(column = 1, row = 23)\n",
    "\n",
    "\n",
    "l1 = tk.Label(my_w,text='Select image to perform OCR',width=30,font=my_font1)  \n",
    "l1.grid(row=1,column=1)\n",
    "b1 = tk.Button(my_w, text='Upload File', \n",
    "   width=20,command = lambda:upload_file())\n",
    "b1.grid(row=2,column=1) \n",
    "\n",
    "button_text = tk.Button(my_w,\n",
    "                        text = \"Read text\",\n",
    "                        command = text)\n",
    "\n",
    "\n",
    "\n",
    "button_exit = tk.Button(my_w,\n",
    "                    text = \"Exit\",\n",
    "                    command = my_w.destroy)\n",
    "\n",
    "button_text.grid(column = 1, row = 13)\n",
    "button_exit.grid(column = 1,row = 14)\n",
    "\n",
    "\n",
    "\n",
    "my_w.mainloop()  # Keep the window open"
   ]
  },
  {
   "cell_type": "code",
   "execution_count": null,
   "id": "1325dfa8",
   "metadata": {},
   "outputs": [],
   "source": []
  },
  {
   "cell_type": "code",
   "execution_count": 13,
   "id": "ec431146",
   "metadata": {},
   "outputs": [],
   "source": []
  },
  {
   "cell_type": "code",
   "execution_count": 19,
   "id": "f001e0ed",
   "metadata": {},
   "outputs": [],
   "source": [
    "from tkinter import *\n",
    " \n",
    "# loading Python Imaging Library\n",
    "from PIL import ImageTk, Image\n",
    " \n",
    "# To get the dialog box to open when required\n",
    "from tkinter import filedialog\n",
    "def open_img():\n",
    "  # Select the Imagename from a folder\n",
    "  x = openfilename()\n",
    "\n",
    "  # opens the image\n",
    "  img = Image.open(x)\n",
    "  \n",
    "  # resize the image and apply a high-quality down sampling filter\n",
    "  img = img.resize((250, 250), Image.ANTIALIAS)\n",
    "\n",
    "  # PhotoImage class is used to add image to widgets, icons etc\n",
    "  img = ImageTk.PhotoImage(img)\n",
    "\n",
    "  # create a label\n",
    "  panel = Label(root, image = img)\n",
    "  \n",
    "  # set the image as img\n",
    "  panel.image = img\n",
    "  panel.grid(row = 2)\n",
    "\n",
    "def openfilename():\n",
    "\n",
    "  # open file dialog box to select image\n",
    "  # The dialogue box has a title \"Open\"\n",
    "  filename = filedialog.askopenfilename(title ='\"pen')\n",
    "  return filename\n",
    "# Create a window\n",
    "root = Tk()\n",
    "\n",
    "# Set Title as Image Loader\n",
    "root.title(\"Image Loader\")\n",
    "\n",
    "# Set the resolution of window\n",
    "root.geometry(\"550x300\")\n",
    "\n",
    "# Allow Window to be resizable\n",
    "root.resizable(width = True, height = True)\n",
    "\n",
    "# Create a button and place it into the window using grid layout\n",
    "btn = Button(root, text ='open image', command = open_img).grid(\n",
    "                    row = 1, columnspan = 4)\n",
    "root.mainloop()\n"
   ]
  },
  {
   "cell_type": "code",
   "execution_count": 15,
   "id": "6e0d6417",
   "metadata": {},
   "outputs": [],
   "source": []
  },
  {
   "cell_type": "code",
   "execution_count": 18,
   "id": "f345fe7b",
   "metadata": {},
   "outputs": [],
   "source": []
  },
  {
   "cell_type": "code",
   "execution_count": null,
   "id": "7d9fdae2",
   "metadata": {},
   "outputs": [],
   "source": []
  }
 ],
 "metadata": {
  "kernelspec": {
   "display_name": "Python 3 (ipykernel)",
   "language": "python",
   "name": "python3"
  },
  "language_info": {
   "codemirror_mode": {
    "name": "ipython",
    "version": 3
   },
   "file_extension": ".py",
   "mimetype": "text/x-python",
   "name": "python",
   "nbconvert_exporter": "python",
   "pygments_lexer": "ipython3",
   "version": "3.9.7"
  }
 },
 "nbformat": 4,
 "nbformat_minor": 5
}
